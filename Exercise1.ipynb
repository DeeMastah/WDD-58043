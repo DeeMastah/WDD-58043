{
  "nbformat": 4,
  "nbformat_minor": 0,
  "metadata": {
    "colab": {
      "name": "Exercise1.ipynb",
      "provenance": [],
      "authorship_tag": "ABX9TyOcqniJ/8Ak+0jOMShlhFYm",
      "include_colab_link": true
    },
    "kernelspec": {
      "name": "python3",
      "display_name": "Python 3"
    },
    "language_info": {
      "name": "python"
    }
  },
  "cells": [
    {
      "cell_type": "markdown",
      "metadata": {
        "id": "view-in-github",
        "colab_type": "text"
      },
      "source": [
        "<a href=\"https://colab.research.google.com/github/DeeMastah/WDD-58043/blob/main/Exercise1.ipynb\" target=\"_parent\"><img src=\"https://colab.research.google.com/assets/colab-badge.svg\" alt=\"Open In Colab\"/></a>"
      ]
    },
    {
      "cell_type": "code",
      "execution_count": 11,
      "metadata": {
        "colab": {
          "base_uri": "https://localhost:8080/"
        },
        "id": "gpEEPMVhlaMG",
        "outputId": "1da8b201-9113-4af2-bb11-d68c9dbb4d07"
      },
      "outputs": [
        {
          "output_type": "stream",
          "name": "stdout",
          "text": [
            "What is the given?\n",
            "1 = Radius\n",
            "2 = Diameter\n",
            "Choice = 1\n",
            "\n",
            "Enter the radius of the circle: 2\n",
            "Area of a circle = 12.56\n"
          ]
        }
      ],
      "source": [
        "pi = 3.14\n",
        "\n",
        "choice = int(input(\"What is the given?\\n1 = Radius\\n2 = Diameter\\nChoice = \"))\n",
        "\n",
        "if choice == 1: \n",
        "  r = float(input(\"\\nEnter the radius of the circle: \"))\n",
        "  area = pi * r * r\n",
        "\n",
        "elif choice == 2: \n",
        "  d = float(input(\"\\nEnter the diameter of the circle: \"))\n",
        "  area = (pi * d * d)/4\n",
        "\n",
        "print(\"Area of a circle = %.2f\" %area)"
      ]
    }
  ]
}